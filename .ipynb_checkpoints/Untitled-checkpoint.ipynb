{
 "cells": [
  {
   "cell_type": "markdown",
   "metadata": {},
   "source": [
    "# Overview\n",
    "The script simulates fiber diffraction pattern for molecular systems. It takes the 3D geometry of a molecular system and generates the fiber diffraction pattern.\n",
    "\n",
    "The script can generate model helical noncovalent polymers given the 3D geometry of the monomeric unit, the rise, the twist, and the number of units in the stack. The repository contains example geometries for hexameric rosette units based on triaminopyrimidine and cyanuric acid.\n",
    "\n",
    "# Files\n",
    "* `diffraction.ipynb`: A Jupyter notebook containing the script.\n",
    "* `geometries/TAP_Cy.xyz`: The 3D geometry of a hexameric rosette unit.\n",
    "* `geometries/TAP_4MCyCo6.xyz`: The 3D geometry of a hexameric rosette unit with chiral exocyclic tails.\n",
    "* `geometries/TAP_CyCo6.xyz`: The 3D geometry of a hexameric rosette unit with achiral exocyclic tails."
   ]
  },
  {
   "cell_type": "code",
   "execution_count": null,
   "metadata": {},
   "outputs": [],
   "source": []
  }
 ],
 "metadata": {
  "kernelspec": {
   "display_name": "Python 3",
   "language": "python",
   "name": "python3"
  },
  "language_info": {
   "codemirror_mode": {
    "name": "ipython",
    "version": 3
   },
   "file_extension": ".py",
   "mimetype": "text/x-python",
   "name": "python",
   "nbconvert_exporter": "python",
   "pygments_lexer": "ipython3",
   "version": "3.8.5"
  }
 },
 "nbformat": 4,
 "nbformat_minor": 4
}

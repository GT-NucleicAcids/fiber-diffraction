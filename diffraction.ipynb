{
 "cells": [
  {
   "cell_type": "markdown",
   "metadata": {},
   "source": [
    "# Computing Fiber Diffraction Patterns"
   ]
  },
  {
   "cell_type": "code",
   "execution_count": null,
   "metadata": {},
   "outputs": [],
   "source": [
    "from scripts import *\n",
    "\n",
    "# An xyz file containing the atomic coordinates\n",
    "# Hydrogen atoms do not need to be included in the xyz file\n",
    "# In this example, we provide the coordinates of one triaminopyrimidine \n",
    "# and cyanuric acid with a 6-carbon chiral tail hexad unit\n",
    "\n",
    "# Other available examples are 'geometries/TAP_CyCo6.xyz' and 'geometries/TAP_Cy.xyz'\n",
    "\n",
    "coordinates_file = 'geometries/TAP_4MCyCo6.xyz'\n",
    "\n",
    "# Specify the rise, twist, and number of hexad units in the stack\n",
    "rise = 3.4 # Angstroms\n",
    "twist = -26.67 # Degrees\n",
    "number_of_hexads = 50\n",
    "output_coordinate = 'fiber.xyz' # Save the generated geometry to this file\n",
    "\n",
    "# Specify the rotation and tilt series\n",
    "rotations = range(0, 360, 10) # Degrees. The rotation of the whole fiber around its axis\n",
    "tilts = [6] # Degrees. The rotation of the whole fiber with respect to the incoming light beam\n",
    "\n",
    "# Specify the fiber diffraction parameters\n",
    "wavelength = 0.7749e-7 # The wavelength of the light beam in mm\n",
    "distance_to_detector = 338.4 # The y-axis distance to the detector in mm\n",
    "z_grid_limits = [-100.0, 100.0] # The limits of the grid along the z-axis in mm\n",
    "x_grid_limits = [-100.0, 100.0] # The limits of the grid along the x-axis in mm\n",
    "z_grid_size = 129 # The resolution of the grid along the z-axis\n",
    "x_grid_size = 129 # The resolution of the grid along the x-axis\n",
    "max_intensity_scaling = 0.01 # A scale factor to limit the maximum intensity in the diffraction plot\n",
    "\n",
    "# Read the atomic coordinates\n",
    "coords = np.loadtxt(coordinates_file, usecols=(1, 2, 3), skiprows=2)\n",
    "atoms = np.loadtxt(coordinates_file, usecols=(0,), skiprows=2, dtype='str')\n",
    "\n",
    "# Make a hexad helix; comment out if not using a hexad system\n",
    "atoms, coords = helix_maker(atoms, coords, rise, twist, number_of_hexads)\n",
    "save_xyz(atoms, coords, output_coordinate)\n",
    "\n",
    "# Update coordinates and atomic numbers\n",
    "coords *= 1e-7 # Convert from Angstroms to mm\n",
    "atomic_numbers = [atomic_number[a] for a in atoms] # Convert from elements to atomic numbers\n",
    "\n",
    "# Initialize diffraction data\n",
    "diffraction_data = np.zeros((z_grid_size, x_grid_size))\n",
    "\n",
    "# Obtain diffraction data for a rotational series around the fiber axis\n",
    "for rotation in rotations:\n",
    "    # Rotate around fiber axis\n",
    "    coords = np.dot(Rz(rotation), coords.T).T\n",
    "    \n",
    "    # Obtain diffraction data for a tilt series\n",
    "    for tilt in tilts:\n",
    "        print('Rotation:', rotation, \", Tilt:\", tilt)\n",
    "        coords = np.dot(Ry(tilt), coords.T).T\n",
    "        \n",
    "        # Generate the fiber diffration\n",
    "        # Here, we account for the rotation and tilt series by a simple sum of individual\n",
    "        # diffraction patterns at each rotation-tilt value\n",
    "        diffraction_data += generate_fiber_diffraction(atomic_numbers, coords, wavelength, distance_to_detector, \n",
    "                                                       z_grid_limits, x_grid_limits, z_grid_size, x_grid_size)\n",
    "\n",
    "# Plot the fiber diffraction pattern\n",
    "plot_fiber_diffraction(diffraction_data, z_grid_limits, x_grid_limits, max_intensity_scaling)"
   ]
  }
 ],
 "metadata": {
  "kernelspec": {
   "display_name": "Python 3",
   "language": "python",
   "name": "python3"
  },
  "language_info": {
   "codemirror_mode": {
    "name": "ipython",
    "version": 3
   },
   "file_extension": ".py",
   "mimetype": "text/x-python",
   "name": "python",
   "nbconvert_exporter": "python",
   "pygments_lexer": "ipython3",
   "version": "3.8.5"
  }
 },
 "nbformat": 4,
 "nbformat_minor": 4
}
